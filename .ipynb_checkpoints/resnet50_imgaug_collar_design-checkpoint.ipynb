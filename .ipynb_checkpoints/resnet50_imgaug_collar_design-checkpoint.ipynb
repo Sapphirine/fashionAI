{
 "cells": [
  {
   "cell_type": "code",
   "execution_count": 1,
   "metadata": {},
   "outputs": [],
   "source": [
    "import tensorflow as tf"
   ]
  },
  {
   "cell_type": "code",
   "execution_count": 2,
   "metadata": {},
   "outputs": [
    {
     "name": "stderr",
     "output_type": "stream",
     "text": [
      "Using TensorFlow backend.\n"
     ]
    }
   ],
   "source": [
    "import os\n",
    "os.environ['CUDA_VISIBLE_DEVICES'] = '0,1,2,3'\n",
    "n_gpus = len(os.environ['CUDA_VISIBLE_DEVICES'].split(','))\n",
    "\n",
    "import keras.backend as K\n",
    "#import tensorflow as tf\n",
    "\n",
    "# gpu_options = tf.GPUOptions(per_process_gpu_memory_fraction=0.7)\n",
    "# sess = tf.Session(config=tf.ConfigProto(gpu_options=gpu_options))"
   ]
  },
  {
   "cell_type": "code",
   "execution_count": 3,
   "metadata": {},
   "outputs": [],
   "source": [
    "import numpy as np\n",
    "import pandas as pd\n",
    "from keras.layers import *\n",
    "from keras.models import *\n",
    "from keras.optimizers import *\n",
    "from keras.applications import *\n",
    "from keras.regularizers import l2\n",
    "\n",
    "from keras.preprocessing.image import *\n",
    "\n",
    "import matplotlib.pyplot as plt\n",
    "import random\n",
    "import os\n",
    "import cv2\n",
    "from tqdm import tqdm\n",
    "from glob import glob\n",
    "import multiprocessing\n",
    "\n",
    "from sklearn.model_selection import train_test_split\n",
    "from collections import Counter\n",
    "from keras import backend as K\n",
    "from keras.utils import multi_gpu_model\n",
    "\n",
    "from IPython.display import display, Image\n",
    "\n",
    "%matplotlib inline\n",
    "%config InlineBackend.figure_format = 'retina'\n"
   ]
  },
  {
   "cell_type": "code",
   "execution_count": 4,
   "metadata": {},
   "outputs": [
    {
     "data": {
      "text/html": [
       "<div>\n",
       "<style scoped>\n",
       "    .dataframe tbody tr th:only-of-type {\n",
       "        vertical-align: middle;\n",
       "    }\n",
       "\n",
       "    .dataframe tbody tr th {\n",
       "        vertical-align: top;\n",
       "    }\n",
       "\n",
       "    .dataframe thead th {\n",
       "        text-align: right;\n",
       "    }\n",
       "</style>\n",
       "<table border=\"1\" class=\"dataframe\">\n",
       "  <thead>\n",
       "    <tr style=\"text-align: right;\">\n",
       "      <th></th>\n",
       "      <th>filename</th>\n",
       "      <th>label_name</th>\n",
       "      <th>label</th>\n",
       "    </tr>\n",
       "  </thead>\n",
       "  <tbody>\n",
       "    <tr>\n",
       "      <th>1</th>\n",
       "      <td>Images/collar_design_labels/5eac277831e01afa1c...</td>\n",
       "      <td>collar_design</td>\n",
       "      <td>nnnny</td>\n",
       "    </tr>\n",
       "    <tr>\n",
       "      <th>11</th>\n",
       "      <td>Images/collar_design_labels/ced36486f518745224...</td>\n",
       "      <td>collar_design</td>\n",
       "      <td>nmynn</td>\n",
       "    </tr>\n",
       "    <tr>\n",
       "      <th>16</th>\n",
       "      <td>Images/collar_design_labels/a2e5a746a439da89a7...</td>\n",
       "      <td>collar_design</td>\n",
       "      <td>nnnny</td>\n",
       "    </tr>\n",
       "    <tr>\n",
       "      <th>17</th>\n",
       "      <td>Images/collar_design_labels/28f38f6f95810bde24...</td>\n",
       "      <td>collar_design</td>\n",
       "      <td>nnnyn</td>\n",
       "    </tr>\n",
       "    <tr>\n",
       "      <th>39</th>\n",
       "      <td>Images/collar_design_labels/1baa9a8095088ffea9...</td>\n",
       "      <td>collar_design</td>\n",
       "      <td>nynnn</td>\n",
       "    </tr>\n",
       "  </tbody>\n",
       "</table>\n",
       "</div>"
      ],
      "text/plain": [
       "                                             filename     label_name  label\n",
       "1   Images/collar_design_labels/5eac277831e01afa1c...  collar_design  nnnny\n",
       "11  Images/collar_design_labels/ced36486f518745224...  collar_design  nmynn\n",
       "16  Images/collar_design_labels/a2e5a746a439da89a7...  collar_design  nnnny\n",
       "17  Images/collar_design_labels/28f38f6f95810bde24...  collar_design  nnnyn\n",
       "39  Images/collar_design_labels/1baa9a8095088ffea9...  collar_design  nynnn"
      ]
     },
     "metadata": {},
     "output_type": "display_data"
    },
    {
     "data": {
      "text/plain": [
       "Counter({'collar_design': 8393})"
      ]
     },
     "execution_count": 4,
     "metadata": {},
     "output_type": "execute_result"
    }
   ],
   "source": [
    "df = pd.read_csv('data/Annotations/label.csv', header=None)\n",
    "df.columns = ['filename', 'label_name', 'label']\n",
    "df = df.sample(frac=1).reset_index(drop=True) # shuffle\n",
    "\n",
    "df.label_name = df.label_name.str.replace('_labels', '')\n",
    "df = df[df.label_name == 'collar_design']\n",
    "\n",
    "display(df.head())\n",
    "c = Counter(df.label_name)\n",
    "c"
   ]
  },
  {
   "cell_type": "code",
   "execution_count": 5,
   "metadata": {},
   "outputs": [
    {
     "data": {
      "text/plain": [
       "{'collar_design': 5}"
      ]
     },
     "metadata": {},
     "output_type": "display_data"
    }
   ],
   "source": [
    "label_count = dict([(x, len(df[df.label_name == x].label.values[0])) for x in c.keys()])\n",
    "label_names = list(label_count.keys())\n",
    "display(label_count)"
   ]
  },
  {
   "cell_type": "code",
   "execution_count": 6,
   "metadata": {},
   "outputs": [
    {
     "name": "stdout",
     "output_type": "stream",
     "text": [
      "8393\n"
     ]
    }
   ],
   "source": [
    "n = len(df)\n",
    "print(n)"
   ]
  },
  {
   "cell_type": "code",
   "execution_count": 7,
   "metadata": {},
   "outputs": [],
   "source": [
    "fnames = df['filename'].values\n",
    "width = 399\n",
    "\n",
    "y = [np.zeros((n, label_count[x])) for x in label_count.keys()]\n",
    "df = df.reset_index(drop=True)"
   ]
  },
  {
   "cell_type": "code",
   "execution_count": 8,
   "metadata": {},
   "outputs": [],
   "source": [
    "for i in range(n):\n",
    "    label_name = df.label_name[i]\n",
    "    label = df.label[i]\n",
    "    y[label_names.index(label_name)][i, label.find('y')] = 1\n",
    "    #y[label_names.index(label_name)][i, label.find('m')] = 0.5"
   ]
  },
  {
   "cell_type": "code",
   "execution_count": 9,
   "metadata": {},
   "outputs": [
    {
     "name": "stdout",
     "output_type": "stream",
     "text": [
      "['Images/collar_design_labels/5eac277831e01afa1c6ba94049c2ab53.jpg'\n",
      " 'Images/collar_design_labels/ced36486f518745224ebf44c0d04f4bb.jpg'\n",
      " 'Images/collar_design_labels/a2e5a746a439da89a77a10665942fa75.jpg'\n",
      " 'Images/collar_design_labels/28f38f6f95810bde2492806da4c7031a.jpg'\n",
      " 'Images/collar_design_labels/1baa9a8095088ffea90dc5025d13bfd0.jpg'\n",
      " 'Images/collar_design_labels/e87593c64f7d0ae4b6fb4fe645b225b5.jpg'\n",
      " 'Images/collar_design_labels/184fe423da4dae306f81e9e97936d336.jpg'\n",
      " 'Images/collar_design_labels/8b59661e5365a90357f8cd23ff0fb8a6.jpg'\n",
      " 'Images/collar_design_labels/b1f02badac41e0bc9a5152a9a1a5a9b1.jpg'\n",
      " 'Images/collar_design_labels/986fbfb113143fb8d47255780e87ca45.jpg']\n",
      "8393\n",
      "8393\n",
      "1\n",
      "dict_keys(['collar_design'])\n",
      "5\n"
     ]
    }
   ],
   "source": [
    "print(fnames[0:10])\n",
    "print(n)\n",
    "print(len(y[0]))\n",
    "print(len(y))\n",
    "print(label_count.keys())\n",
    "print(len(y[0][0]))"
   ]
  },
  {
   "cell_type": "code",
   "execution_count": 10,
   "metadata": {},
   "outputs": [
    {
     "name": "stderr",
     "output_type": "stream",
     "text": [
      "100%|██████████| 8393/8393 [00:21<00:00, 398.28it/s]\n"
     ]
    }
   ],
   "source": [
    "def f(index):\n",
    "    if os.path.isfile('data/'+fnames[index]):\n",
    "        return index, cv2.resize(cv2.imread('data/'+fnames[index]), (width, width))\n",
    "\n",
    "X = np.zeros((n, width, width, 3), dtype=np.uint8)\n",
    "with multiprocessing.Pool(12) as pool:\n",
    "    with tqdm(pool.imap_unordered(f, range(n)), total=n) as pbar:\n",
    "        for i, img in pbar:\n",
    "            X[i] = img[:,:,::-1]"
   ]
  },
  {
   "cell_type": "code",
   "execution_count": 11,
   "metadata": {},
   "outputs": [],
   "source": [
    "n_train = int(n*0.8)\n",
    "\n",
    "X_train = X[:n_train]\n",
    "X_valid = X[n_train:]\n",
    "y_train = [x[:n_train] for x in y]\n",
    "y_valid = [x[n_train:] for x in y]"
   ]
  },
  {
   "cell_type": "code",
   "execution_count": 12,
   "metadata": {},
   "outputs": [],
   "source": [
    "from dataset import *\n",
    "gen_train = Generator(X_train, y_train, batch_size=32, aug=True)"
   ]
  },
  {
   "cell_type": "code",
   "execution_count": 13,
   "metadata": {},
   "outputs": [],
   "source": [
    "base_model = ResNet50(weights='imagenet', input_shape=(width, width, 3), include_top=False, pooling='avg')"
   ]
  },
  {
   "cell_type": "code",
   "execution_count": 14,
   "metadata": {},
   "outputs": [
    {
     "data": {
      "image/svg+xml": [
       "<svg height=\"387pt\" viewBox=\"0.00 0.00 391.00 387.00\" width=\"391pt\" xmlns=\"http://www.w3.org/2000/svg\" xmlns:xlink=\"http://www.w3.org/1999/xlink\">\n",
       "<g class=\"graph\" id=\"graph0\" transform=\"scale(1 1) rotate(0) translate(4 383)\">\n",
       "<title>G</title>\n",
       "<polygon fill=\"white\" points=\"-4,4 -4,-383 387,-383 387,4 -4,4\" stroke=\"none\"/>\n",
       "<!-- 140487320967712 -->\n",
       "<g class=\"node\" id=\"node1\"><title>140487320967712</title>\n",
       "<polygon fill=\"none\" points=\"-2.84217e-14,-332.5 -2.84217e-14,-378.5 383,-378.5 383,-332.5 -2.84217e-14,-332.5\" stroke=\"black\"/>\n",
       "<text font-family=\"Times,serif\" font-size=\"14.00\" text-anchor=\"middle\" x=\"80\" y=\"-351.8\">input_2: InputLayer</text>\n",
       "<polyline fill=\"none\" points=\"160,-332.5 160,-378.5 \" stroke=\"black\"/>\n",
       "<text font-family=\"Times,serif\" font-size=\"14.00\" text-anchor=\"middle\" x=\"194\" y=\"-363.3\">input:</text>\n",
       "<polyline fill=\"none\" points=\"160,-355.5 228,-355.5 \" stroke=\"black\"/>\n",
       "<text font-family=\"Times,serif\" font-size=\"14.00\" text-anchor=\"middle\" x=\"194\" y=\"-340.3\">output:</text>\n",
       "<polyline fill=\"none\" points=\"228,-332.5 228,-378.5 \" stroke=\"black\"/>\n",
       "<text font-family=\"Times,serif\" font-size=\"14.00\" text-anchor=\"middle\" x=\"305.5\" y=\"-363.3\">(None, 399, 399, 3)</text>\n",
       "<polyline fill=\"none\" points=\"228,-355.5 383,-355.5 \" stroke=\"black\"/>\n",
       "<text font-family=\"Times,serif\" font-size=\"14.00\" text-anchor=\"middle\" x=\"305.5\" y=\"-340.3\">(None, 399, 399, 3)</text>\n",
       "</g>\n",
       "<!-- 140487320967040 -->\n",
       "<g class=\"node\" id=\"node2\"><title>140487320967040</title>\n",
       "<polygon fill=\"none\" points=\"4,-249.5 4,-295.5 379,-295.5 379,-249.5 4,-249.5\" stroke=\"black\"/>\n",
       "<text font-family=\"Times,serif\" font-size=\"14.00\" text-anchor=\"middle\" x=\"80\" y=\"-268.8\">lambda_1: Lambda</text>\n",
       "<polyline fill=\"none\" points=\"156,-249.5 156,-295.5 \" stroke=\"black\"/>\n",
       "<text font-family=\"Times,serif\" font-size=\"14.00\" text-anchor=\"middle\" x=\"190\" y=\"-280.3\">input:</text>\n",
       "<polyline fill=\"none\" points=\"156,-272.5 224,-272.5 \" stroke=\"black\"/>\n",
       "<text font-family=\"Times,serif\" font-size=\"14.00\" text-anchor=\"middle\" x=\"190\" y=\"-257.3\">output:</text>\n",
       "<polyline fill=\"none\" points=\"224,-249.5 224,-295.5 \" stroke=\"black\"/>\n",
       "<text font-family=\"Times,serif\" font-size=\"14.00\" text-anchor=\"middle\" x=\"301.5\" y=\"-280.3\">(None, 399, 399, 3)</text>\n",
       "<polyline fill=\"none\" points=\"224,-272.5 379,-272.5 \" stroke=\"black\"/>\n",
       "<text font-family=\"Times,serif\" font-size=\"14.00\" text-anchor=\"middle\" x=\"301.5\" y=\"-257.3\">(None, 399, 399, 3)</text>\n",
       "</g>\n",
       "<!-- 140487320967712&#45;&gt;140487320967040 -->\n",
       "<g class=\"edge\" id=\"edge1\"><title>140487320967712-&gt;140487320967040</title>\n",
       "<path d=\"M191.5,-332.366C191.5,-324.152 191.5,-314.658 191.5,-305.725\" fill=\"none\" stroke=\"black\"/>\n",
       "<polygon fill=\"black\" points=\"195,-305.607 191.5,-295.607 188,-305.607 195,-305.607\" stroke=\"black\"/>\n",
       "</g>\n",
       "<!-- 140487737472000 -->\n",
       "<g class=\"node\" id=\"node3\"><title>140487737472000</title>\n",
       "<polygon fill=\"none\" points=\"13,-166.5 13,-212.5 370,-212.5 370,-166.5 13,-166.5\" stroke=\"black\"/>\n",
       "<text font-family=\"Times,serif\" font-size=\"14.00\" text-anchor=\"middle\" x=\"80\" y=\"-185.8\">resnet50: Model</text>\n",
       "<polyline fill=\"none\" points=\"147,-166.5 147,-212.5 \" stroke=\"black\"/>\n",
       "<text font-family=\"Times,serif\" font-size=\"14.00\" text-anchor=\"middle\" x=\"181\" y=\"-197.3\">input:</text>\n",
       "<polyline fill=\"none\" points=\"147,-189.5 215,-189.5 \" stroke=\"black\"/>\n",
       "<text font-family=\"Times,serif\" font-size=\"14.00\" text-anchor=\"middle\" x=\"181\" y=\"-174.3\">output:</text>\n",
       "<polyline fill=\"none\" points=\"215,-166.5 215,-212.5 \" stroke=\"black\"/>\n",
       "<text font-family=\"Times,serif\" font-size=\"14.00\" text-anchor=\"middle\" x=\"292.5\" y=\"-197.3\">(None, 399, 399, 3)</text>\n",
       "<polyline fill=\"none\" points=\"215,-189.5 370,-189.5 \" stroke=\"black\"/>\n",
       "<text font-family=\"Times,serif\" font-size=\"14.00\" text-anchor=\"middle\" x=\"292.5\" y=\"-174.3\">(None, 2048)</text>\n",
       "</g>\n",
       "<!-- 140487320967040&#45;&gt;140487737472000 -->\n",
       "<g class=\"edge\" id=\"edge2\"><title>140487320967040-&gt;140487737472000</title>\n",
       "<path d=\"M191.5,-249.366C191.5,-241.152 191.5,-231.658 191.5,-222.725\" fill=\"none\" stroke=\"black\"/>\n",
       "<polygon fill=\"black\" points=\"195,-222.607 191.5,-212.607 188,-222.607 195,-222.607\" stroke=\"black\"/>\n",
       "</g>\n",
       "<!-- 140487320966368 -->\n",
       "<g class=\"node\" id=\"node4\"><title>140487320966368</title>\n",
       "<polygon fill=\"none\" points=\"24,-83.5 24,-129.5 359,-129.5 359,-83.5 24,-83.5\" stroke=\"black\"/>\n",
       "<text font-family=\"Times,serif\" font-size=\"14.00\" text-anchor=\"middle\" x=\"102.5\" y=\"-102.8\">dropout_1: Dropout</text>\n",
       "<polyline fill=\"none\" points=\"181,-83.5 181,-129.5 \" stroke=\"black\"/>\n",
       "<text font-family=\"Times,serif\" font-size=\"14.00\" text-anchor=\"middle\" x=\"215\" y=\"-114.3\">input:</text>\n",
       "<polyline fill=\"none\" points=\"181,-106.5 249,-106.5 \" stroke=\"black\"/>\n",
       "<text font-family=\"Times,serif\" font-size=\"14.00\" text-anchor=\"middle\" x=\"215\" y=\"-91.3\">output:</text>\n",
       "<polyline fill=\"none\" points=\"249,-83.5 249,-129.5 \" stroke=\"black\"/>\n",
       "<text font-family=\"Times,serif\" font-size=\"14.00\" text-anchor=\"middle\" x=\"304\" y=\"-114.3\">(None, 2048)</text>\n",
       "<polyline fill=\"none\" points=\"249,-106.5 359,-106.5 \" stroke=\"black\"/>\n",
       "<text font-family=\"Times,serif\" font-size=\"14.00\" text-anchor=\"middle\" x=\"304\" y=\"-91.3\">(None, 2048)</text>\n",
       "</g>\n",
       "<!-- 140487737472000&#45;&gt;140487320966368 -->\n",
       "<g class=\"edge\" id=\"edge3\"><title>140487737472000-&gt;140487320966368</title>\n",
       "<path d=\"M191.5,-166.366C191.5,-158.152 191.5,-148.658 191.5,-139.725\" fill=\"none\" stroke=\"black\"/>\n",
       "<polygon fill=\"black\" points=\"195,-139.607 191.5,-129.607 188,-139.607 195,-139.607\" stroke=\"black\"/>\n",
       "</g>\n",
       "<!-- 140487320966536 -->\n",
       "<g class=\"node\" id=\"node5\"><title>140487320966536</title>\n",
       "<polygon fill=\"none\" points=\"20,-0.5 20,-46.5 363,-46.5 363,-0.5 20,-0.5\" stroke=\"black\"/>\n",
       "<text font-family=\"Times,serif\" font-size=\"14.00\" text-anchor=\"middle\" x=\"102.5\" y=\"-19.8\">collar_design: Dense</text>\n",
       "<polyline fill=\"none\" points=\"185,-0.5 185,-46.5 \" stroke=\"black\"/>\n",
       "<text font-family=\"Times,serif\" font-size=\"14.00\" text-anchor=\"middle\" x=\"219\" y=\"-31.3\">input:</text>\n",
       "<polyline fill=\"none\" points=\"185,-23.5 253,-23.5 \" stroke=\"black\"/>\n",
       "<text font-family=\"Times,serif\" font-size=\"14.00\" text-anchor=\"middle\" x=\"219\" y=\"-8.3\">output:</text>\n",
       "<polyline fill=\"none\" points=\"253,-0.5 253,-46.5 \" stroke=\"black\"/>\n",
       "<text font-family=\"Times,serif\" font-size=\"14.00\" text-anchor=\"middle\" x=\"308\" y=\"-31.3\">(None, 2048)</text>\n",
       "<polyline fill=\"none\" points=\"253,-23.5 363,-23.5 \" stroke=\"black\"/>\n",
       "<text font-family=\"Times,serif\" font-size=\"14.00\" text-anchor=\"middle\" x=\"308\" y=\"-8.3\">(None, 5)</text>\n",
       "</g>\n",
       "<!-- 140487320966368&#45;&gt;140487320966536 -->\n",
       "<g class=\"edge\" id=\"edge4\"><title>140487320966368-&gt;140487320966536</title>\n",
       "<path d=\"M191.5,-83.3664C191.5,-75.1516 191.5,-65.6579 191.5,-56.7252\" fill=\"none\" stroke=\"black\"/>\n",
       "<polygon fill=\"black\" points=\"195,-56.6068 191.5,-46.6068 188,-56.6069 195,-56.6068\" stroke=\"black\"/>\n",
       "</g>\n",
       "</g>\n",
       "</svg>"
      ],
      "text/plain": [
       "<IPython.core.display.SVG object>"
      ]
     },
     "execution_count": 14,
     "metadata": {},
     "output_type": "execute_result"
    }
   ],
   "source": [
    "input_tensor = Input((width, width, 3))\n",
    "x = input_tensor\n",
    "x = Lambda(resnet50.preprocess_input)(x)\n",
    "x = base_model(x)\n",
    "x = Dropout(0.5)(x)\n",
    "x = [Dense(count, activation='softmax', name=name)(x) for name, count in label_count.items()]\n",
    "\n",
    "model = Model(input_tensor, x)\n",
    "model.compile(optimizer='adam', loss='categorical_crossentropy', metrics=['accuracy'])\n",
    "\n",
    "from IPython.display import SVG\n",
    "from keras.utils.vis_utils import model_to_dot, plot_model\n",
    "\n",
    "plot_model(model, show_shapes=True, to_file='model_collar_design.png')\n",
    "SVG(model_to_dot(model, show_shapes=True).create(prog='dot', format='svg'))"
   ]
  },
  {
   "cell_type": "code",
   "execution_count": 15,
   "metadata": {},
   "outputs": [],
   "source": [
    "model2 = multi_gpu_model(model, n_gpus)"
   ]
  },
  {
   "cell_type": "code",
   "execution_count": 16,
   "metadata": {},
   "outputs": [
    {
     "name": "stdout",
     "output_type": "stream",
     "text": [
      "Epoch 1/8\n",
      "210/210 [==============================] - 308s 1s/step - loss: 1.0594 - acc: 0.5872 - val_loss: 0.8727 - val_acc: 0.6921\n",
      "Epoch 2/8\n",
      "210/210 [==============================] - 252s 1s/step - loss: 0.6085 - acc: 0.7848 - val_loss: 0.6746 - val_acc: 0.7671\n",
      "Epoch 3/8\n",
      "210/210 [==============================] - 248s 1s/step - loss: 0.4602 - acc: 0.8397 - val_loss: 0.7880 - val_acc: 0.7582\n",
      "Epoch 4/8\n",
      "210/210 [==============================] - 253s 1s/step - loss: 0.3914 - acc: 0.8663 - val_loss: 0.6465 - val_acc: 0.7915\n",
      "Epoch 5/8\n",
      "210/210 [==============================] - 261s 1s/step - loss: 0.3153 - acc: 0.8879 - val_loss: 0.5995 - val_acc: 0.8195\n",
      "Epoch 6/8\n",
      "210/210 [==============================] - 258s 1s/step - loss: 0.2757 - acc: 0.8987 - val_loss: 0.6720 - val_acc: 0.7987\n",
      "Epoch 7/8\n",
      "210/210 [==============================] - 248s 1s/step - loss: 0.2459 - acc: 0.9147 - val_loss: 0.6655 - val_acc: 0.8046\n",
      "Epoch 8/8\n",
      "210/210 [==============================] - 253s 1s/step - loss: 0.2078 - acc: 0.9304 - val_loss: 0.7326 - val_acc: 0.8023\n"
     ]
    },
    {
     "data": {
      "text/plain": [
       "<keras.callbacks.History at 0x7fc58229c128>"
      ]
     },
     "execution_count": 16,
     "metadata": {},
     "output_type": "execute_result"
    }
   ],
   "source": [
    "model2.compile(optimizer = Adam(0.0001),loss = 'categorical_crossentropy', metrics = ['accuracy'])\n",
    "model2.fit_generator(gen_train.generator, steps_per_epoch=gen_train.steps, \n",
    "                    epochs=8, validation_data=(X_valid, y_valid))"
   ]
  },
  {
   "cell_type": "code",
   "execution_count": 17,
   "metadata": {},
   "outputs": [
    {
     "name": "stdout",
     "output_type": "stream",
     "text": [
      "Epoch 1/3\n",
      "210/210 [==============================] - 290s 1s/step - loss: 0.1343 - acc: 0.9557 - val_loss: 0.5717 - val_acc: 0.8428\n",
      "Epoch 2/3\n",
      "210/210 [==============================] - 254s 1s/step - loss: 0.1068 - acc: 0.9626 - val_loss: 0.6412 - val_acc: 0.8422\n",
      "Epoch 3/3\n",
      "210/210 [==============================] - 252s 1s/step - loss: 0.0920 - acc: 0.9690 - val_loss: 0.6334 - val_acc: 0.8434\n"
     ]
    },
    {
     "data": {
      "text/plain": [
       "<keras.callbacks.History at 0x7fc581dbb128>"
      ]
     },
     "execution_count": 17,
     "metadata": {},
     "output_type": "execute_result"
    }
   ],
   "source": [
    "model2.compile(optimizer = Adam(0.000025),loss = 'categorical_crossentropy', metrics = ['accuracy'])\n",
    "model2.fit_generator(gen_train.generator, steps_per_epoch=gen_train.steps, \n",
    "                    epochs=3, validation_data=(X_valid, y_valid))"
   ]
  },
  {
   "cell_type": "code",
   "execution_count": 18,
   "metadata": {},
   "outputs": [
    {
     "name": "stdout",
     "output_type": "stream",
     "text": [
      "Epoch 1/3\n",
      "210/210 [==============================] - 287s 1s/step - loss: 0.0609 - acc: 0.9808 - val_loss: 0.6212 - val_acc: 0.8511\n",
      "Epoch 2/3\n",
      "210/210 [==============================] - 248s 1s/step - loss: 0.0595 - acc: 0.9793 - val_loss: 0.6239 - val_acc: 0.8481\n",
      "Epoch 3/3\n",
      "210/210 [==============================] - 250s 1s/step - loss: 0.0613 - acc: 0.9799 - val_loss: 0.6483 - val_acc: 0.8487\n"
     ]
    },
    {
     "data": {
      "text/plain": [
       "<keras.callbacks.History at 0x7fc57405b710>"
      ]
     },
     "execution_count": 18,
     "metadata": {},
     "output_type": "execute_result"
    }
   ],
   "source": [
    "model2.compile(optimizer = Adam(0.00000625),loss = 'categorical_crossentropy', metrics = ['accuracy'])\n",
    "model2.fit_generator(gen_train.generator, steps_per_epoch=gen_train.steps, \n",
    "                    epochs=3, validation_data=(X_valid, y_valid))"
   ]
  },
  {
   "cell_type": "code",
   "execution_count": 19,
   "metadata": {},
   "outputs": [
    {
     "name": "stdout",
     "output_type": "stream",
     "text": [
      "Epoch 1/1\n",
      "210/210 [==============================] - 289s 1s/step - loss: 0.0512 - acc: 0.9826 - val_loss: 0.6343 - val_acc: 0.8469\n"
     ]
    },
    {
     "data": {
      "text/plain": [
       "<keras.callbacks.History at 0x7fc4f87b2a20>"
      ]
     },
     "execution_count": 19,
     "metadata": {},
     "output_type": "execute_result"
    }
   ],
   "source": [
    "model2.compile(optimizer = Adam(0.00000425),loss = 'categorical_crossentropy', metrics = ['accuracy'])\n",
    "model2.fit_generator(gen_train.generator, steps_per_epoch=gen_train.steps, \n",
    "                    epochs=1, validation_data=(X_valid, y_valid))"
   ]
  },
  {
   "cell_type": "code",
   "execution_count": 20,
   "metadata": {},
   "outputs": [
    {
     "name": "stdout",
     "output_type": "stream",
     "text": [
      "Epoch 1/1\n",
      "210/210 [==============================] - 297s 1s/step - loss: 0.0525 - acc: 0.9837 - val_loss: 0.6383 - val_acc: 0.8487\n"
     ]
    },
    {
     "data": {
      "text/plain": [
       "<keras.callbacks.History at 0x7fc499d34d68>"
      ]
     },
     "execution_count": 20,
     "metadata": {},
     "output_type": "execute_result"
    }
   ],
   "source": [
    "model2.compile(optimizer = Adam(0.000001),loss = 'categorical_crossentropy', metrics = ['accuracy'])\n",
    "model2.fit_generator(gen_train.generator, steps_per_epoch=gen_train.steps, \n",
    "                    epochs=1, validation_data=(X_valid, y_valid))"
   ]
  },
  {
   "cell_type": "code",
   "execution_count": 21,
   "metadata": {},
   "outputs": [],
   "source": [
    "model_name = 'resnet_collar_design'\n",
    "\n",
    "model.save('model_%s.h5' % model_name)"
   ]
  }
 ],
 "metadata": {
  "kernelspec": {
   "display_name": "Python 3",
   "language": "python",
   "name": "python3"
  },
  "language_info": {
   "codemirror_mode": {
    "name": "ipython",
    "version": 3
   },
   "file_extension": ".py",
   "mimetype": "text/x-python",
   "name": "python",
   "nbconvert_exporter": "python",
   "pygments_lexer": "ipython3",
   "version": "3.6.7"
  }
 },
 "nbformat": 4,
 "nbformat_minor": 2
}
